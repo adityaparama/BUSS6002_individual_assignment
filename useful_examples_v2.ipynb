{
 "cells": [
  {
   "cell_type": "code",
   "execution_count": 1,
   "id": "056e3fd2",
   "metadata": {},
   "outputs": [],
   "source": [
    "import numpy as np\n",
    "import pandas as pd\n",
    "import matplotlib.pyplot as plt\n",
    "\n",
    "from sklearn.model_selection import train_test_split\n",
    "from sklearn.linear_model import LinearRegression\n",
    "from sklearn.metrics import mean_squared_error as mse "
   ]
  },
  {
   "cell_type": "code",
   "execution_count": 2,
   "id": "521b6844",
   "metadata": {},
   "outputs": [],
   "source": [
    "def design_mat_pol(x, p):\n",
    "    n = len(x)\n",
    "    phi_mat = np.ones((n, 1))\n",
    "    for i in range(1, p + 1):\n",
    "        phi_i = (x ** i).reshape(-1, 1)\n",
    "        phi_mat = np.hstack((phi_mat, phi_i))\n",
    "    return phi_mat"
   ]
  },
  {
   "cell_type": "code",
   "execution_count": 3,
   "id": "5095403d",
   "metadata": {},
   "outputs": [],
   "source": [
    "def design_mat_pwc(x, k):\n",
    "    x_min = np.min(x)\n",
    "    x_max = np.max(x)\n",
    "    n = len(x)\n",
    "    phi_mat = np.ones((n, 1))\n",
    "    for i in range(1, k + 1):\n",
    "        t = x_min + i * (x_max - x_min) / (k + 1)\n",
    "        phi_i = (x > t)\n",
    "        phi_mat = np.hstack((phi_mat, phi_i.reshape(-1, 1)))\n",
    "    return phi_mat"
   ]
  },
  {
   "cell_type": "code",
   "execution_count": 4,
   "id": "5275113c",
   "metadata": {},
   "outputs": [],
   "source": [
    "def design_mat_pwl(x, k):\n",
    "    x_min = np.min(x)\n",
    "    x_max = np.max(x)\n",
    "    n = len(x)\n",
    "    phi_mat = np.hstack((np.ones((n, 1)), x.reshape(-1, 1)))\n",
    "    for i in range(1, k + 1):\n",
    "        t = x_min + i * (x_max - x_min) / (k + 1)\n",
    "        phi_i = (x - t) * (x > t)\n",
    "        phi_mat = np.hstack((phi_mat, phi_i.reshape(-1, 1)))\n",
    "    return phi_mat"
   ]
  },
  {
   "cell_type": "code",
   "execution_count": 5,
   "id": "aba4bc22",
   "metadata": {},
   "outputs": [],
   "source": [
    "def np_predict(xmat, y):\n",
    "    bhat = np.linalg.inv(xmat.T @ xmat) @ xmat.T @ y\n",
    "    yhat = xmat @ bhat\n",
    "    return yhat"
   ]
  },
  {
   "cell_type": "code",
   "execution_count": 6,
   "id": "b25afdb5",
   "metadata": {},
   "outputs": [],
   "source": [
    "def skl_predict(xmat, y):\n",
    "    lr = LinearRegression(fit_intercept=False)\n",
    "    lr.fit(xmat, y)\n",
    "    yhat = lr.predict(xmat)\n",
    "    print('Rank:{}/{}'.format(lr.rank_, xmat.shape[1]))\n",
    "    return yhat"
   ]
  },
  {
   "cell_type": "code",
   "execution_count": 7,
   "id": "968f0ff0",
   "metadata": {},
   "outputs": [],
   "source": [
    "def np_predict_new(phi_mat, y, phi_mat_new):\n",
    "    b_hat = np.linalg.inv(phi_mat.T @ phi_mat) @ phi_mat.T @ y\n",
    "    y_hat = phi_mat_new @ b_hat\n",
    "    return y_hat"
   ]
  },
  {
   "cell_type": "code",
   "execution_count": 8,
   "id": "3816db63",
   "metadata": {},
   "outputs": [],
   "source": [
    "def skl_predict_new(phi_mat, y, phi_mat_new):\n",
    "    lr = LinearRegression(fit_intercept=False)\n",
    "    lr.fit(phi_mat, y)\n",
    "    y_hat = lr.predict(phi_mat_new)\n",
    "    return y_hat"
   ]
  },
  {
   "cell_type": "code",
   "execution_count": 9,
   "id": "3e28fe40",
   "metadata": {},
   "outputs": [
    {
     "data": {
      "text/html": [
       "<div>\n",
       "<style scoped>\n",
       "    .dataframe tbody tr th:only-of-type {\n",
       "        vertical-align: middle;\n",
       "    }\n",
       "\n",
       "    .dataframe tbody tr th {\n",
       "        vertical-align: top;\n",
       "    }\n",
       "\n",
       "    .dataframe thead th {\n",
       "        text-align: right;\n",
       "    }\n",
       "</style>\n",
       "<table border=\"1\" class=\"dataframe\">\n",
       "  <thead>\n",
       "    <tr style=\"text-align: right;\">\n",
       "      <th></th>\n",
       "      <th>temp</th>\n",
       "      <th>year</th>\n",
       "      <th>month</th>\n",
       "    </tr>\n",
       "  </thead>\n",
       "  <tbody>\n",
       "    <tr>\n",
       "      <th>0</th>\n",
       "      <td>11.50</td>\n",
       "      <td>1940</td>\n",
       "      <td>1</td>\n",
       "    </tr>\n",
       "    <tr>\n",
       "      <th>1</th>\n",
       "      <td>11.87</td>\n",
       "      <td>1940</td>\n",
       "      <td>2</td>\n",
       "    </tr>\n",
       "    <tr>\n",
       "      <th>2</th>\n",
       "      <td>12.52</td>\n",
       "      <td>1940</td>\n",
       "      <td>3</td>\n",
       "    </tr>\n",
       "    <tr>\n",
       "      <th>3</th>\n",
       "      <td>13.76</td>\n",
       "      <td>1940</td>\n",
       "      <td>4</td>\n",
       "    </tr>\n",
       "    <tr>\n",
       "      <th>4</th>\n",
       "      <td>14.75</td>\n",
       "      <td>1940</td>\n",
       "      <td>5</td>\n",
       "    </tr>\n",
       "    <tr>\n",
       "      <th>...</th>\n",
       "      <td>...</td>\n",
       "      <td>...</td>\n",
       "      <td>...</td>\n",
       "    </tr>\n",
       "    <tr>\n",
       "      <th>1012</th>\n",
       "      <td>15.91</td>\n",
       "      <td>2024</td>\n",
       "      <td>5</td>\n",
       "    </tr>\n",
       "    <tr>\n",
       "      <th>1013</th>\n",
       "      <td>16.66</td>\n",
       "      <td>2024</td>\n",
       "      <td>6</td>\n",
       "    </tr>\n",
       "    <tr>\n",
       "      <th>1014</th>\n",
       "      <td>16.91</td>\n",
       "      <td>2024</td>\n",
       "      <td>7</td>\n",
       "    </tr>\n",
       "    <tr>\n",
       "      <th>1015</th>\n",
       "      <td>16.82</td>\n",
       "      <td>2024</td>\n",
       "      <td>8</td>\n",
       "    </tr>\n",
       "    <tr>\n",
       "      <th>1016</th>\n",
       "      <td>16.17</td>\n",
       "      <td>2024</td>\n",
       "      <td>9</td>\n",
       "    </tr>\n",
       "  </tbody>\n",
       "</table>\n",
       "<p>1017 rows × 3 columns</p>\n",
       "</div>"
      ],
      "text/plain": [
       "       temp  year  month\n",
       "0     11.50  1940      1\n",
       "1     11.87  1940      2\n",
       "2     12.52  1940      3\n",
       "3     13.76  1940      4\n",
       "4     14.75  1940      5\n",
       "...     ...   ...    ...\n",
       "1012  15.91  2024      5\n",
       "1013  16.66  2024      6\n",
       "1014  16.91  2024      7\n",
       "1015  16.82  2024      8\n",
       "1016  16.17  2024      9\n",
       "\n",
       "[1017 rows x 3 columns]"
      ]
     },
     "execution_count": 9,
     "metadata": {},
     "output_type": "execute_result"
    }
   ],
   "source": [
    "# Read temperature data from file\n",
    "data = pd.read_csv('surf_temp.csv')\n",
    "data"
   ]
  },
  {
   "cell_type": "code",
   "execution_count": 10,
   "id": "5642e7e0-01b2-48f6-8039-32486bdc78af",
   "metadata": {},
   "outputs": [
    {
     "data": {
      "text/plain": [
       "array([[0, 0, 0, ..., 0, 0, 0],\n",
       "       [1, 0, 0, ..., 0, 0, 0],\n",
       "       [0, 1, 0, ..., 0, 0, 0],\n",
       "       ...,\n",
       "       [0, 0, 0, ..., 0, 0, 0],\n",
       "       [0, 0, 0, ..., 0, 0, 0],\n",
       "       [0, 0, 0, ..., 0, 0, 0]])"
      ]
     },
     "execution_count": 10,
     "metadata": {},
     "output_type": "execute_result"
    }
   ],
   "source": [
    "# Create a matrix of indicators\n",
    "umat = pd.get_dummies(data['month'], drop_first=True, dtype=int).values\n",
    "umat"
   ]
  },
  {
   "cell_type": "code",
   "execution_count": 11,
   "id": "51e999ba",
   "metadata": {},
   "outputs": [
    {
     "name": "stdout",
     "output_type": "stream",
     "text": [
      "Rank:16/16\n"
     ]
    },
    {
     "data": {
      "image/png": "[encoded data removed]",
      "text/plain": [
       "<Figure size 640x480 with 1 Axes>"
      ]
     },
     "metadata": {},
     "output_type": "display_data"
    }
   ],
   "source": [
    "y = data['temp'].values\n",
    "x = data['year'].values\n",
    "\n",
    "# You may want to re-scale x for polynomial basis\n",
    "# x = (data['year'].values - 1940) / 84\n",
    "     \n",
    "phimat = design_mat_pwl(x, 3)\n",
    "xmat = np.hstack((phimat, umat))\n",
    "yhat = skl_predict(xmat, y)\n",
    "plt.scatter(x, y, color='grey', s=3, alpha=0.3)\n",
    "plt.plot(x, yhat, 'r.', markersize=1.0)\n",
    "plt.show()"
   ]
  },
  {
   "cell_type": "code",
   "execution_count": 12,
   "id": "c8d68f76-bcc2-47a2-b629-b3ef36560b90",
   "metadata": {},
   "outputs": [],
   "source": [
    "# Train-validation-test split (updated!)\n",
    "y = data['temp'].to_numpy(dtype=float)\n",
    "x = data[['year', 'month']].to_numpy(dtype=float)\n",
    "\n",
    "# Re-scale 'year' column if needed\n",
    "x[:, 0] = (x[:, 0] - 1940) / 84\n",
    "\n",
    "x_tv, x_test, y_tv, y_test = train_test_split(\n",
    "    x, y, test_size=1/4, random_state=1)\n",
    "x_train, x_vali, y_train, y_vali = train_test_split(\n",
    "    x_tv, y_tv, test_size=1/3, random_state=1)"
   ]
  },
  {
   "cell_type": "code",
   "execution_count": 13,
   "id": "f5fde084",
   "metadata": {},
   "outputs": [
    {
     "data": {
      "text/plain": [
       "array([ 1,  2,  3,  4,  5,  6,  7,  8,  9, 10])"
      ]
     },
     "execution_count": 13,
     "metadata": {},
     "output_type": "execute_result"
    }
   ],
   "source": [
    "p = np.arange(1, 11)\n",
    "p"
   ]
  },
  {
   "cell_type": "code",
   "execution_count": 17,
   "id": "7225bc59",
   "metadata": {},
   "outputs": [],
   "source": [
    "# Updated!\n",
    "umat = pd.get_dummies(x_train[:, 1], drop_first=True, dtype=int).values\n",
    "umat_new = pd.get_dummies(x_vali[:, 1], drop_first=True, dtype=int).values\n",
    "\n",
    "n_p = len(p)\n",
    "mse_vali = np.empty(n_p)\n",
    "for i in range(n_p):\n",
    "    phimat = design_mat_pwl(x_train[:, 0], p[i])\n",
    "    phimat_new = design_mat_pwl(x_vali[:, 0], p[i])\n",
    "    xmat = np.hstack((phimat, umat))\n",
    "    xmat_new = np.hstack((phimat_new, umat_new))\n",
    "    yhat = skl_predict_new(xmat, y_train, xmat_new)\n",
    "    mse_vali[i] = mse(y_vali, yhat)"
   ]
  },
  {
   "cell_type": "code",
   "execution_count": 18,
   "id": "5cbb3a13",
   "metadata": {},
   "outputs": [
    {
     "data": {
      "text/plain": [
       "array([0.02199306, 0.02067222, 0.02165389, 0.02119438, 0.02154077,\n",
       "       0.02104248, 0.02011698, 0.02054361, 0.02100394, 0.02174609])"
      ]
     },
     "execution_count": 18,
     "metadata": {},
     "output_type": "execute_result"
    }
   ],
   "source": [
    "mse_vali"
   ]
  },
  {
   "cell_type": "code",
   "execution_count": 19,
   "id": "56a488bb",
   "metadata": {},
   "outputs": [
    {
     "data": {
      "image/png": "[encoded data removed]",
      "text/plain": [
       "<Figure size 640x480 with 1 Axes>"
      ]
     },
     "metadata": {},
     "output_type": "display_data"
    }
   ],
   "source": [
    "plt.plot(p, mse_vali)\n",
    "plt.show()"
   ]
  },
  {
   "cell_type": "code",
   "execution_count": 20,
   "id": "d26e2bc6",
   "metadata": {},
   "outputs": [
    {
     "data": {
      "text/plain": [
       "6"
      ]
     },
     "execution_count": 20,
     "metadata": {},
     "output_type": "execute_result"
    }
   ],
   "source": [
    "np.argmin(mse_vali)"
   ]
  },
  {
   "cell_type": "code",
   "execution_count": null,
   "id": "d79583de-c4fe-4512-9e1c-24cb63238708",
   "metadata": {},
   "outputs": [],
   "source": []
  },
  {
   "cell_type": "code",
   "execution_count": null,
   "id": "8b6e9b73-19e4-44ba-a728-3edbd9e3b601",
   "metadata": {},
   "outputs": [],
   "source": []
  }
 ],
 "metadata": {
  "kernelspec": {
   "display_name": "Python 3 (ipykernel)",
   "language": "python",
   "name": "python3"
  },
  "language_info": {
   "codemirror_mode": {
    "name": "ipython",
    "version": 3
   },
   "file_extension": ".py",
   "mimetype": "text/x-python",
   "name": "python",
   "nbconvert_exporter": "python",
   "pygments_lexer": "ipython3",
   "version": "3.11.7"
  }
 },
 "nbformat": 4,
 "nbformat_minor": 5
}
